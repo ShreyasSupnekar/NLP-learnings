{
 "cells": [
  {
   "cell_type": "markdown",
   "id": "e493f086",
   "metadata": {},
   "source": [
    "Whats train vs test vs validation data ?\n",
    "->Train is for model training and test is for model testing and we cant see it and if it sees it its issue called data leakage. Another split in Train for train and validation is for hyperparamtre tuning through validn data.In Cross validn we have gridsearchcv and randomized searh cv. if we have cv=5 for 1000 training data, then 1000/5=200 will be the validn data."
   ]
  },
  {
   "cell_type": "markdown",
   "id": "b98c0e60",
   "metadata": {},
   "source": [
    "Why people use RandomForest instead of Decision Tree?\n",
    "-> Decision tree has low bias ad high variance , but Randomforest has low bias and low variance."
   ]
  },
  {
   "cell_type": "markdown",
   "id": "a98bbc05",
   "metadata": {},
   "source": [
    "Whats Word Embedding ?\n",
    "-> Text to vectors by use of Word2Vec, AvgWord2Vec"
   ]
  },
  {
   "cell_type": "markdown",
   "id": "2bed82e3",
   "metadata": {},
   "source": [
    "Whats diff betn fit_transform and transform ?"
   ]
  },
  {
   "cell_type": "markdown",
   "id": "9377627c",
   "metadata": {},
   "source": [
    "Whats fit-predict method ?"
   ]
  },
  {
   "cell_type": "markdown",
   "id": "eb5351f2",
   "metadata": {},
   "source": [
    "Whats diff betn Normalization and Standardisation ?"
   ]
  },
  {
   "cell_type": "markdown",
   "id": "1b911f92",
   "metadata": {},
   "source": [
    "# RNN"
   ]
  },
  {
   "cell_type": "markdown",
   "id": "9ed4f123",
   "metadata": {},
   "source": [
    "Types of RNN:\n",
    "1) One to One (Eg: Image Classification)\n",
    "2) One to Many (Music Generation,Text Generation, Google Search Suggestion, Movie Recommendation)\n",
    "3) Many to One (Sentimental Analysis)\n",
    "4) Many to Many (Language Translations, Question Answers, Chatbots)"
   ]
  },
  {
   "cell_type": "markdown",
   "id": "a1133bae",
   "metadata": {},
   "source": [
    "# LSTM RNN "
   ]
  },
  {
   "cell_type": "markdown",
   "id": "f0330cdd",
   "metadata": {},
   "source": [
    "Why choose lstm instead of rnn ? This is because to capture the information deep in nueral network which cant be captured by RNN. Also the vanishing gradient or dead nueron."
   ]
  },
  {
   "cell_type": "code",
   "execution_count": null,
   "id": "eb9f1632",
   "metadata": {},
   "outputs": [],
   "source": []
  }
 ],
 "metadata": {
  "kernelspec": {
   "display_name": "Python 3 (ipykernel)",
   "language": "python",
   "name": "python3"
  },
  "language_info": {
   "codemirror_mode": {
    "name": "ipython",
    "version": 3
   },
   "file_extension": ".py",
   "mimetype": "text/x-python",
   "name": "python",
   "nbconvert_exporter": "python",
   "pygments_lexer": "ipython3",
   "version": "3.11.5"
  }
 },
 "nbformat": 4,
 "nbformat_minor": 5
}
