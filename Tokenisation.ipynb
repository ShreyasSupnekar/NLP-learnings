{
 "cells": [
  {
   "cell_type": "code",
   "execution_count": 1,
   "id": "c839c9b9",
   "metadata": {},
   "outputs": [
    {
     "name": "stderr",
     "output_type": "stream",
     "text": [
      "[nltk_data] Downloading package punkt to /Users/Admin/nltk_data...\n",
      "[nltk_data]   Unzipping tokenizers/punkt.zip.\n"
     ]
    },
    {
     "data": {
      "text/plain": [
       "True"
      ]
     },
     "execution_count": 1,
     "metadata": {},
     "output_type": "execute_result"
    }
   ],
   "source": [
    "import nltk\n",
    "nltk.download('punkt')"
   ]
  },
  {
   "cell_type": "code",
   "execution_count": 2,
   "id": "92e25835",
   "metadata": {},
   "outputs": [],
   "source": [
    "corpus=\"\"\"Hello Mates, this is Shreyas here to explain you what exactly is NLP.\n",
    "Plz go through all code to get good understanding of NLP!\n",
    "It's not much hard just go through once.\"\"\""
   ]
  },
  {
   "cell_type": "code",
   "execution_count": 3,
   "id": "893fa534",
   "metadata": {},
   "outputs": [
    {
     "name": "stdout",
     "output_type": "stream",
     "text": [
      "Hello Mates, this is Shreyas here to explain you what exactly is NLP.\n",
      "Plz go through all code to get good understanding of NLP!\n",
      "It's not much hard just go through once.\n"
     ]
    }
   ],
   "source": [
    "print(corpus)"
   ]
  },
  {
   "cell_type": "code",
   "execution_count": 4,
   "id": "60581461",
   "metadata": {},
   "outputs": [],
   "source": [
    "##Tokenization\n",
    "## Sentence--> Paragraphs\n",
    "from nltk.tokenize import sent_tokenize"
   ]
  },
  {
   "cell_type": "code",
   "execution_count": 5,
   "id": "7bfd55d5",
   "metadata": {},
   "outputs": [
    {
     "data": {
      "text/plain": [
       "['Hello Mates, this is Shreyas here to explain you what exactly is NLP.',\n",
       " 'Plz go through all code to get good understanding of NLP!',\n",
       " \"It's not much hard just go through once.\"]"
      ]
     },
     "execution_count": 5,
     "metadata": {},
     "output_type": "execute_result"
    }
   ],
   "source": [
    "sent_tokenize(corpus)"
   ]
  },
  {
   "cell_type": "code",
   "execution_count": 6,
   "id": "e646b4d2",
   "metadata": {},
   "outputs": [],
   "source": [
    "from nltk.tokenize import word_tokenize"
   ]
  },
  {
   "cell_type": "code",
   "execution_count": 7,
   "id": "8e07c211",
   "metadata": {},
   "outputs": [
    {
     "data": {
      "text/plain": [
       "['Hello',\n",
       " 'Mates',\n",
       " ',',\n",
       " 'this',\n",
       " 'is',\n",
       " 'Shreyas',\n",
       " 'here',\n",
       " 'to',\n",
       " 'explain',\n",
       " 'you',\n",
       " 'what',\n",
       " 'exactly',\n",
       " 'is',\n",
       " 'NLP',\n",
       " '.',\n",
       " 'Plz',\n",
       " 'go',\n",
       " 'through',\n",
       " 'all',\n",
       " 'code',\n",
       " 'to',\n",
       " 'get',\n",
       " 'good',\n",
       " 'understanding',\n",
       " 'of',\n",
       " 'NLP',\n",
       " '!',\n",
       " 'It',\n",
       " \"'s\",\n",
       " 'not',\n",
       " 'much',\n",
       " 'hard',\n",
       " 'just',\n",
       " 'go',\n",
       " 'through',\n",
       " 'once',\n",
       " '.']"
      ]
     },
     "execution_count": 7,
     "metadata": {},
     "output_type": "execute_result"
    }
   ],
   "source": [
    "word_tokenize(corpus)"
   ]
  },
  {
   "cell_type": "code",
   "execution_count": 8,
   "id": "eb2d5b22",
   "metadata": {},
   "outputs": [],
   "source": [
    "from nltk.tokenize import wordpunct_tokenize"
   ]
  },
  {
   "cell_type": "code",
   "execution_count": 9,
   "id": "5ebb5760",
   "metadata": {},
   "outputs": [
    {
     "data": {
      "text/plain": [
       "['Hello',\n",
       " 'Mates',\n",
       " ',',\n",
       " 'this',\n",
       " 'is',\n",
       " 'Shreyas',\n",
       " 'here',\n",
       " 'to',\n",
       " 'explain',\n",
       " 'you',\n",
       " 'what',\n",
       " 'exactly',\n",
       " 'is',\n",
       " 'NLP',\n",
       " '.',\n",
       " 'Plz',\n",
       " 'go',\n",
       " 'through',\n",
       " 'all',\n",
       " 'code',\n",
       " 'to',\n",
       " 'get',\n",
       " 'good',\n",
       " 'understanding',\n",
       " 'of',\n",
       " 'NLP',\n",
       " '!',\n",
       " 'It',\n",
       " \"'\",\n",
       " 's',\n",
       " 'not',\n",
       " 'much',\n",
       " 'hard',\n",
       " 'just',\n",
       " 'go',\n",
       " 'through',\n",
       " 'once',\n",
       " '.']"
      ]
     },
     "execution_count": 9,
     "metadata": {},
     "output_type": "execute_result"
    }
   ],
   "source": [
    "wordpunct_tokenize(corpus)"
   ]
  },
  {
   "cell_type": "code",
   "execution_count": 12,
   "id": "eb6b15b2",
   "metadata": {},
   "outputs": [],
   "source": [
    "from nltk.tokenize import TreebankWordTokenizer"
   ]
  },
  {
   "cell_type": "code",
   "execution_count": 13,
   "id": "4058303d",
   "metadata": {},
   "outputs": [],
   "source": [
    "tokenizer=TreebankWordTokenizer()"
   ]
  },
  {
   "cell_type": "code",
   "execution_count": 14,
   "id": "cfcd3772",
   "metadata": {},
   "outputs": [
    {
     "data": {
      "text/plain": [
       "['Hello',\n",
       " 'Mates',\n",
       " ',',\n",
       " 'this',\n",
       " 'is',\n",
       " 'Shreyas',\n",
       " 'here',\n",
       " 'to',\n",
       " 'explain',\n",
       " 'you',\n",
       " 'what',\n",
       " 'exactly',\n",
       " 'is',\n",
       " 'NLP.',\n",
       " 'Plz',\n",
       " 'go',\n",
       " 'through',\n",
       " 'all',\n",
       " 'code',\n",
       " 'to',\n",
       " 'get',\n",
       " 'good',\n",
       " 'understanding',\n",
       " 'of',\n",
       " 'NLP',\n",
       " '!',\n",
       " 'It',\n",
       " \"'s\",\n",
       " 'not',\n",
       " 'much',\n",
       " 'hard',\n",
       " 'just',\n",
       " 'go',\n",
       " 'through',\n",
       " 'once',\n",
       " '.']"
      ]
     },
     "execution_count": 14,
     "metadata": {},
     "output_type": "execute_result"
    }
   ],
   "source": [
    "tokenizer.tokenize(corpus)"
   ]
  },
  {
   "cell_type": "code",
   "execution_count": null,
   "id": "0cc6003f",
   "metadata": {},
   "outputs": [],
   "source": []
  }
 ],
 "metadata": {
  "kernelspec": {
   "display_name": "Python 3 (ipykernel)",
   "language": "python",
   "name": "python3"
  },
  "language_info": {
   "codemirror_mode": {
    "name": "ipython",
    "version": 3
   },
   "file_extension": ".py",
   "mimetype": "text/x-python",
   "name": "python",
   "nbconvert_exporter": "python",
   "pygments_lexer": "ipython3",
   "version": "3.11.5"
  }
 },
 "nbformat": 4,
 "nbformat_minor": 5
}
